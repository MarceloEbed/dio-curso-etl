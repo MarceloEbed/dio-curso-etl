{
  "nbformat": 4,
  "nbformat_minor": 0,
  "metadata": {
    "colab": {
      "name": "Dados Quilombolas.ipynb",
      "provenance": [],
      "mount_file_id": "1NytMbrFDLzi34_kCj9pLEQojjcBjr08L",
      "authorship_tag": "ABX9TyPPgQPxUwM2R1vL3SAJpP7A",
      "include_colab_link": true
    },
    "kernelspec": {
      "name": "python3",
      "display_name": "Python 3"
    },
    "language_info": {
      "name": "python"
    }
  },
  "cells": [
    {
      "cell_type": "markdown",
      "metadata": {
        "id": "view-in-github",
        "colab_type": "text"
      },
      "source": [
        "<a href=\"https://colab.research.google.com/github/MarceloEbed/dio-curso-etl/blob/main/Dados_Quilombolas.ipynb\" target=\"_parent\"><img src=\"https://colab.research.google.com/assets/colab-badge.svg\" alt=\"Open In Colab\"/></a>"
      ]
    },
    {
      "cell_type": "markdown",
      "metadata": {
        "id": "_ATwPlkSrqGo"
      },
      "source": [
        " **Dados dos Quilombolas Registrados - Fundação Palmares**"
      ]
    },
    {
      "cell_type": "code",
      "metadata": {
        "id": "hE2kTXBIrzSn"
      },
      "source": [
        "import pandas as pd\n"
      ],
      "execution_count": 131,
      "outputs": []
    },
    {
      "cell_type": "code",
      "metadata": {
        "id": "UVZ1IpfBy52r"
      },
      "source": [
        "df = pd.read_csv ('/content/drive/MyDrive/Dados/planilhacertificadas.csv', encoding='latin-1', sep=';', error_bad_lines=False, dayfirst=True) "
      ],
      "execution_count": 128,
      "outputs": []
    },
    {
      "cell_type": "code",
      "metadata": {
        "colab": {
          "base_uri": "https://localhost:8080/",
          "height": 377
        },
        "id": "yoeT1b4jzUXk",
        "outputId": "73bf7bc8-1d40-4b94-9c88-de4ab05b136c"
      },
      "source": [
        "df.head ()"
      ],
      "execution_count": null,
      "outputs": [
        {
          "output_type": "execute_result",
          "data": {
            "text/html": [
              "<div>\n",
              "<style scoped>\n",
              "    .dataframe tbody tr th:only-of-type {\n",
              "        vertical-align: middle;\n",
              "    }\n",
              "\n",
              "    .dataframe tbody tr th {\n",
              "        vertical-align: top;\n",
              "    }\n",
              "\n",
              "    .dataframe thead th {\n",
              "        text-align: right;\n",
              "    }\n",
              "</style>\n",
              "<table border=\"1\" class=\"dataframe\">\n",
              "  <thead>\n",
              "    <tr style=\"text-align: right;\">\n",
              "      <th></th>\n",
              "      <th>REGIÃO</th>\n",
              "      <th>UF</th>\n",
              "      <th>MUNICÍPIO</th>\n",
              "      <th>CÓDIGO DO IBGE</th>\n",
              "      <th>DENOMINAÇÃO DA COMUNIDADE</th>\n",
              "      <th>ID QUILOMBOLA</th>\n",
              "      <th>Nº PROCESSO NA FCP</th>\n",
              "      <th>DATA DA ABERTURA DO PROCESSO</th>\n",
              "      <th>Nº DO LIVRO DE REGISTRO</th>\n",
              "      <th>Nº DO REGISTRO</th>\n",
              "      <th>Nº DA FOLHA DO LIVRO DE REGISTRO</th>\n",
              "      <th>Nº DA PORTARIA DE CERTIFICAÇÃO</th>\n",
              "      <th>DATA DA PORTARIA NO D.O.U</th>\n",
              "      <th>LINK DA PUBLICAÇÃO NO DOU</th>\n",
              "      <th>Nº PROCESSO INCRA</th>\n",
              "      <th>LATITUDE - S-N</th>\n",
              "      <th>LONGITUDE - W-E</th>\n",
              "      <th>ENDEREÇO/TELEFONE DA COMUNIDADE</th>\n",
              "      <th>OBSERVAÇÕES</th>\n",
              "    </tr>\n",
              "  </thead>\n",
              "  <tbody>\n",
              "    <tr>\n",
              "      <th>0</th>\n",
              "      <td>SUL</td>\n",
              "      <td>RS</td>\n",
              "      <td>MAQUINÉ | OSÓRIO</td>\n",
              "      <td>4311775 | 4313508</td>\n",
              "      <td>MORRO ALTO</td>\n",
              "      <td>27.000</td>\n",
              "      <td>01420.000014/2003-04</td>\n",
              "      <td>09/01/2003</td>\n",
              "      <td>1</td>\n",
              "      <td>1.0</td>\n",
              "      <td>2</td>\n",
              "      <td>19/2004</td>\n",
              "      <td>04/06/2004</td>\n",
              "      <td>http://pesquisa.in.gov.br/imprensa/jsp/visuali...</td>\n",
              "      <td>54220.001201/2004-09</td>\n",
              "      <td>-29,75315</td>\n",
              "      <td>-50,171421</td>\n",
              "      <td>NaN</td>\n",
              "      <td>NaN</td>\n",
              "    </tr>\n",
              "    <tr>\n",
              "      <th>1</th>\n",
              "      <td>NORDESTE</td>\n",
              "      <td>PI</td>\n",
              "      <td>QUEIMADA NOVA</td>\n",
              "      <td>2208650</td>\n",
              "      <td>TAPUIO</td>\n",
              "      <td>140.000</td>\n",
              "      <td>01420.000052/2004-30</td>\n",
              "      <td>03/02/2004</td>\n",
              "      <td>1</td>\n",
              "      <td>2.0</td>\n",
              "      <td>3</td>\n",
              "      <td>19/2004</td>\n",
              "      <td>04/06/2004</td>\n",
              "      <td>http://pesquisa.in.gov.br/imprensa/jsp/visuali...</td>\n",
              "      <td>54380.001320/2004-11</td>\n",
              "      <td>-8,518098</td>\n",
              "      <td>-41,363726</td>\n",
              "      <td>NaN</td>\n",
              "      <td>NaN</td>\n",
              "    </tr>\n",
              "    <tr>\n",
              "      <th>2</th>\n",
              "      <td>NORDESTE</td>\n",
              "      <td>PI</td>\n",
              "      <td>QUEIMADA NOVA</td>\n",
              "      <td>2208650</td>\n",
              "      <td>SUMIDOURO</td>\n",
              "      <td>1.409</td>\n",
              "      <td>01420.000051/2004-95</td>\n",
              "      <td>03/02/2004</td>\n",
              "      <td>1</td>\n",
              "      <td>3.0</td>\n",
              "      <td>4</td>\n",
              "      <td>19/2004</td>\n",
              "      <td>04/06/2004</td>\n",
              "      <td>http://pesquisa.in.gov.br/imprensa/jsp/visuali...</td>\n",
              "      <td>54380.001323/2004-54</td>\n",
              "      <td>NaN</td>\n",
              "      <td>NaN</td>\n",
              "      <td>NaN</td>\n",
              "      <td>NaN</td>\n",
              "    </tr>\n",
              "    <tr>\n",
              "      <th>3</th>\n",
              "      <td>SUL</td>\n",
              "      <td>RS</td>\n",
              "      <td>RESTINGA SECA</td>\n",
              "      <td>4315503</td>\n",
              "      <td>RINCÃO DOS MARTIMIANOS</td>\n",
              "      <td>51.000</td>\n",
              "      <td>01420.000036/2003-66</td>\n",
              "      <td>09/01/2003</td>\n",
              "      <td>1</td>\n",
              "      <td>4.0</td>\n",
              "      <td>5</td>\n",
              "      <td>19/2004</td>\n",
              "      <td>04/06/2004</td>\n",
              "      <td>http://pesquisa.in.gov.br/imprensa/jsp/visuali...</td>\n",
              "      <td>54220.000258/2005-63</td>\n",
              "      <td>-29,784734</td>\n",
              "      <td>-53,375164</td>\n",
              "      <td>NaN</td>\n",
              "      <td>NaN</td>\n",
              "    </tr>\n",
              "    <tr>\n",
              "      <th>4</th>\n",
              "      <td>SUL</td>\n",
              "      <td>RS</td>\n",
              "      <td>RESTINGA SECA</td>\n",
              "      <td>4315503</td>\n",
              "      <td>SÃO MIGUEL</td>\n",
              "      <td>52.000</td>\n",
              "      <td>01420.000034/2003-77</td>\n",
              "      <td>09/01/2003</td>\n",
              "      <td>1</td>\n",
              "      <td>5.0</td>\n",
              "      <td>6</td>\n",
              "      <td>19/2004</td>\n",
              "      <td>04/06/2004</td>\n",
              "      <td>http://pesquisa.in.gov.br/imprensa/jsp/visuali...</td>\n",
              "      <td>54220.000257/2005-19</td>\n",
              "      <td>-29,749886</td>\n",
              "      <td>-53,367375</td>\n",
              "      <td>NaN</td>\n",
              "      <td>NaN</td>\n",
              "    </tr>\n",
              "  </tbody>\n",
              "</table>\n",
              "</div>"
            ],
            "text/plain": [
              "     REGIÃO  UF  ... ENDEREÇO/TELEFONE DA COMUNIDADE OBSERVAÇÕES\n",
              "0       SUL  RS  ...                             NaN         NaN\n",
              "1  NORDESTE  PI  ...                             NaN         NaN\n",
              "2  NORDESTE  PI  ...                             NaN         NaN\n",
              "3       SUL  RS  ...                             NaN         NaN\n",
              "4       SUL  RS  ...                             NaN         NaN\n",
              "\n",
              "[5 rows x 19 columns]"
            ]
          },
          "metadata": {},
          "execution_count": 95
        }
      ]
    },
    {
      "cell_type": "code",
      "metadata": {
        "colab": {
          "base_uri": "https://localhost:8080/"
        },
        "id": "caJLAU0b0UGl",
        "outputId": "1797a6ae-6d96-4af7-ceb7-b321273d4c05"
      },
      "source": [
        "df[\"REGIÃO\"].unique()"
      ],
      "execution_count": null,
      "outputs": [
        {
          "output_type": "execute_result",
          "data": {
            "text/plain": [
              "array(['SUL', 'NORDESTE', 'SUDESTE', 'CENTRO-OESTE', 'NORTE',\n",
              "       'CENTRO OESTE'], dtype=object)"
            ]
          },
          "metadata": {},
          "execution_count": 96
        }
      ]
    },
    {
      "cell_type": "code",
      "metadata": {
        "colab": {
          "base_uri": "https://localhost:8080/"
        },
        "id": "GB6Jrwd60rZi",
        "outputId": "640eb366-6cd6-44dc-dfd5-fa4b734e0803"
      },
      "source": [
        "df[\"UF\"].unique()"
      ],
      "execution_count": null,
      "outputs": [
        {
          "output_type": "execute_result",
          "data": {
            "text/plain": [
              "array(['RS', 'PI', 'MG', 'SC', 'MA', 'RN', 'GO', 'SE', 'RO', 'BA', 'PB',\n",
              "       'PA', 'SP', 'RJ', 'CE', 'TO', 'PR', 'PE', 'ES', 'AL', 'MS', 'AP',\n",
              "       'MT', 'AM', 'SE ', 'MG      ', 'BA      ', 'BA '], dtype=object)"
            ]
          },
          "metadata": {},
          "execution_count": 97
        }
      ]
    },
    {
      "cell_type": "code",
      "metadata": {
        "id": "bkZiZKJh8VjB",
        "colab": {
          "base_uri": "https://localhost:8080/"
        },
        "outputId": "f208a6f9-8a9b-4d88-d401-5729f366a2a7"
      },
      "source": [
        "df.dtypes"
      ],
      "execution_count": 122,
      "outputs": [
        {
          "output_type": "execute_result",
          "data": {
            "text/plain": [
              "REGIÃO                               object\n",
              "UF                                   object\n",
              "MUNICÍPIO                            object\n",
              "CÓDIGO DO IBGE                       object\n",
              "DENOMINAÇÃO DA COMUNIDADE            object\n",
              "ID QUILOMBOLA                       float64\n",
              "Nº PROCESSO NA FCP                   object\n",
              "DATA DA ABERTURA DO PROCESSO         object\n",
              "Nº DO LIVRO DE REGISTRO               int64\n",
              "Nº DO REGISTRO                      float64\n",
              "Nº DA FOLHA DO LIVRO DE REGISTRO      int64\n",
              "Nº DA PORTARIA DE CERTIFICAÇÃO       object\n",
              "DATA DA PORTARIA NO D.O.U            object\n",
              "LINK DA PUBLICAÇÃO NO DOU            object\n",
              "Nº PROCESSO INCRA                    object\n",
              "LATITUDE - S-N                       object\n",
              "LONGITUDE - W-E                      object\n",
              "ENDEREÇO/TELEFONE DA COMUNIDADE      object\n",
              "OBSERVAÇÕES                          object\n",
              "dtype: object"
            ]
          },
          "metadata": {},
          "execution_count": 122
        }
      ]
    }
  ]
}